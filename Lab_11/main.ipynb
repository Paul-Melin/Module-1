{
 "cells": [
  {
   "cell_type": "code",
   "execution_count": 22,
   "id": "ecc9d86c",
   "metadata": {},
   "outputs": [],
   "source": [
    "integers_list = [8, 2, 7, 2, 3, 4, 6, 5, 4, 4, 1, 2 , 3]\n",
    "snd_lst = [2, 4, 3]\n",
    "\n",
    "def remove_spec_digits(integers_list, snd_lst):\n",
    "    for i in snd_lst:\n",
    "        while i in integers_list:\n",
    "            integers_list.remove(i)\n",
    "    return integers_list"
   ]
  },
  {
   "cell_type": "code",
   "execution_count": 23,
   "id": "401b4e6a",
   "metadata": {},
   "outputs": [
    {
     "data": {
      "text/plain": [
       "[8, 7, 6, 5, 1]"
      ]
     },
     "execution_count": 23,
     "metadata": {},
     "output_type": "execute_result"
    }
   ],
   "source": [
    "remove_spec_digits(integers_list, snd_lst)"
   ]
  },
  {
   "cell_type": "code",
   "execution_count": 26,
   "id": "451d97de",
   "metadata": {},
   "outputs": [],
   "source": [
    "integers_list = [-18, -31, 81, -19, 111, -888]\n",
    "digits_list = [1, 8, 4]\n",
    "\n",
    "def count_spec_digits(integers_list, digits_list):\n",
    "    x=''.join(str(elem) for elem in integers_list)\n",
    "    z=x.replace(\"-\",\"\")\n",
    "    final=[]\n",
    "    for i in z:\n",
    "        final.append(i)\n",
    "    final_1=[int(i) for i in final]\n",
    "    freq={}\n",
    "    for i in digits_list:\n",
    "        freq[i]=final_1.count(i)  \n",
    "    output=[]\n",
    "    for i in freq.items():\n",
    "        output.append(i)\n",
    "    return output"
   ]
  },
  {
   "cell_type": "code",
   "execution_count": 27,
   "id": "d3b1717f",
   "metadata": {},
   "outputs": [
    {
     "data": {
      "text/plain": [
       "[(1, 7), (8, 5), (4, 0)]"
      ]
     },
     "execution_count": 27,
     "metadata": {},
     "output_type": "execute_result"
    }
   ],
   "source": [
    "count_spec_digits(integers_list, digits_list)"
   ]
  },
  {
   "cell_type": "code",
   "execution_count": null,
   "id": "24eda79d",
   "metadata": {},
   "outputs": [],
   "source": [
    "ordered_count(\"abracadabra\") == [('a', 5), ('b', 2), ('r', 2), ('c', 1), ('d', 1)]"
   ]
  },
  {
   "cell_type": "code",
   "execution_count": 31,
   "id": "21b129a9",
   "metadata": {},
   "outputs": [],
   "source": [
    "def ordered_count(word):\n",
    "    x=[]\n",
    "    for i in word:\n",
    "        x.append(i)\n",
    "    freq={}\n",
    "    for i in x:\n",
    "        freq[i]=x.count(i)\n",
    "    output=list(freq.items())\n",
    "    return output"
   ]
  },
  {
   "cell_type": "code",
   "execution_count": 33,
   "id": "1a3fac73",
   "metadata": {},
   "outputs": [
    {
     "data": {
      "text/plain": [
       "[('a', 1),\n",
       " ('n', 4),\n",
       " ('t', 4),\n",
       " ('i', 3),\n",
       " ('c', 1),\n",
       " ('o', 2),\n",
       " ('s', 1),\n",
       " ('u', 1),\n",
       " ('e', 1),\n",
       " ('l', 1)]"
      ]
     },
     "execution_count": 33,
     "metadata": {},
     "output_type": "execute_result"
    }
   ],
   "source": [
    "ordered_count('anticonstitutionnel')"
   ]
  }
 ],
 "metadata": {
  "kernelspec": {
   "display_name": "Python 3",
   "language": "python",
   "name": "python3"
  },
  "language_info": {
   "codemirror_mode": {
    "name": "ipython",
    "version": 3
   },
   "file_extension": ".py",
   "mimetype": "text/x-python",
   "name": "python",
   "nbconvert_exporter": "python",
   "pygments_lexer": "ipython3",
   "version": "3.8.8"
  }
 },
 "nbformat": 4,
 "nbformat_minor": 5
}
