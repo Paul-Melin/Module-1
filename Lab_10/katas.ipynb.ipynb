{
 "cells": [
  {
   "cell_type": "code",
   "execution_count": 14,
   "id": "9d7c4d5a",
   "metadata": {
    "scrolled": true
   },
   "outputs": [],
   "source": [
    "sheeps = [True,  True,  True,  False,\n",
    "  True,  True,  True,  True ,\n",
    "  True,  False, True,  False,\n",
    "  True,  False, False, True ,\n",
    "  True,  True,  True,  True ,\n",
    "  False, False, True,  True]\n",
    "\n",
    "from collections import Counter\n",
    "def n_sheeps():\n",
    "    z=sheeps.count(True)\n",
    "    return(z)"
   ]
  },
  {
   "cell_type": "code",
   "execution_count": 16,
   "id": "c14d9f55",
   "metadata": {},
   "outputs": [
    {
     "data": {
      "text/plain": [
       "17"
      ]
     },
     "execution_count": 16,
     "metadata": {},
     "output_type": "execute_result"
    }
   ],
   "source": [
    "n_sheeps()"
   ]
  },
  {
   "cell_type": "code",
   "execution_count": 17,
   "id": "ab78d1f0",
   "metadata": {},
   "outputs": [
    {
     "name": "stdout",
     "output_type": "stream",
     "text": [
      "['1', '3', '5', '7', '9']\n"
     ]
    }
   ],
   "source": [
    "list= [\"1\", \"2\", \"3\", \"4\", \"5\", \"6\", \"7\", \"8\", \"9\", \"10\"]\n",
    "z=list[::2]\n",
    "list=z\n",
    "print(list)"
   ]
  },
  {
   "cell_type": "code",
   "execution_count": 55,
   "id": "f96bc769",
   "metadata": {
    "scrolled": true
   },
   "outputs": [
    {
     "name": "stdout",
     "output_type": "stream",
     "text": [
      "Please enter a number: 98765\n",
      "['5', '6', '7', '8', '9']\n"
     ]
    }
   ],
   "source": [
    "x=input('Please enter a number: ')\n",
    "z=[]\n",
    "for i in x:\n",
    "    z.append(i)\n",
    "y=z[::-1]\n",
    "print(y)\n",
    "    \n",
    "\n"
   ]
  },
  {
   "cell_type": "code",
   "execution_count": 102,
   "id": "7736a287",
   "metadata": {},
   "outputs": [
    {
     "name": "stdout",
     "output_type": "stream",
     "text": [
      "Please enter a number: 943\n",
      "81169\n"
     ]
    }
   ],
   "source": [
    "x=input('Please enter a number: ')\n",
    "z=[]\n",
    "for i in x:\n",
    "    z.append(i)\n",
    "\n",
    "final=[]\n",
    "for i in z:\n",
    "    z=int(i)**2\n",
    "    z=str(z)\n",
    "    final.append(z)\n",
    "    final1=''.join(final)\n",
    "print(final1)"
   ]
  },
  {
   "cell_type": "code",
   "execution_count": 116,
   "id": "a9c6d972",
   "metadata": {},
   "outputs": [],
   "source": [
    "integers_list = [-18, -31, 81, -19, 111, -888]\n",
    "digits_list = [1, 8, 4]\n",
    "\n",
    "def count_spec_digits(integers_list, digits_list):\n",
    "    x=''.join(str(elem) for elem in integers_list)\n",
    "    z=x.replace(\"-\",\"\")\n",
    "    final=[]\n",
    "    for i in z:\n",
    "        final.append(i)\n",
    "    final_1=[int(i) for i in final]\n",
    "    freq={}\n",
    "    for i in digits_list:\n",
    "        freq[i]=final_1.count(i)  \n",
    "    output=[]\n",
    "    for i in freq.items():\n",
    "        output.append(i)\n",
    "    return output"
   ]
  },
  {
   "cell_type": "code",
   "execution_count": 115,
   "id": "0eef41cb",
   "metadata": {},
   "outputs": [
    {
     "data": {
      "text/plain": [
       "[(1, 7), (8, 5), (4, 0)]"
      ]
     },
     "execution_count": 115,
     "metadata": {},
     "output_type": "execute_result"
    }
   ],
   "source": [
    "count_spec_digits(integers_list, digits_list)"
   ]
  }
 ],
 "metadata": {
  "kernelspec": {
   "display_name": "Python 3",
   "language": "python",
   "name": "python3"
  },
  "language_info": {
   "codemirror_mode": {
    "name": "ipython",
    "version": 3
   },
   "file_extension": ".py",
   "mimetype": "text/x-python",
   "name": "python",
   "nbconvert_exporter": "python",
   "pygments_lexer": "ipython3",
   "version": "3.8.8"
  }
 },
 "nbformat": 4,
 "nbformat_minor": 5
}
