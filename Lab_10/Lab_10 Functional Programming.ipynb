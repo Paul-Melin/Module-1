{
 "cells": [
  {
   "cell_type": "markdown",
   "metadata": {},
   "source": [
    "#### 1. [Counting Sheeps] (https://www.codewars.com/kata/54edbc7200b811e956000556)"
   ]
  },
  {
   "cell_type": "markdown",
   "metadata": {},
   "source": [
    "Consider an array/list of sheep where some sheep may be missing from their place. We need a function that counts the number of sheep present in the array (true means present)."
   ]
  },
  {
   "cell_type": "markdown",
   "metadata": {},
   "source": [
    "#### For Example :\n",
    "[true,  true,  true,  false,\n",
    "\n",
    "  true,  true,  true,  true ,\n",
    "  \n",
    "  true,  false, true,  false,\n",
    "  \n",
    "  true,  false, false, true ,\n",
    "  \n",
    "  true,  true,  true,  true ,\n",
    "  \n",
    "  false, false, true,  true]\n",
    "#### The correct answer would be 17."
   ]
  },
  {
   "cell_type": "code",
   "execution_count": 8,
   "metadata": {},
   "outputs": [],
   "source": [
    "def count_sheeps(list_sheep):\n",
    "    count = 0\n",
    "    sheeps = 0\n",
    "    for i in range(len(list_sheep)):\n",
    "        if list_sheep[i] == 'true':\n",
    "            count += 1\n",
    "            sheeps += 1\n",
    "        else:\n",
    "            count +=1\n",
    "    Missing = count - sheeps\n",
    "    return {f\"{sheeps} present in array & {Missing} missing\"}"
   ]
  },
  {
   "cell_type": "code",
   "execution_count": 9,
   "metadata": {},
   "outputs": [
    {
     "data": {
      "text/plain": [
       "{'17 present in array & 7 missing'}"
      ]
     },
     "execution_count": 9,
     "metadata": {},
     "output_type": "execute_result"
    }
   ],
   "source": [
    "sheeps = ['true', 'true', 'true', 'false', 'true', 'true', 'true', 'true', 'true', 'false', 'true', 'false', 'true', 'false', 'false', 'true', 'true', 'true', 'true', 'true' , 'false', 'false', 'true', 'true']\n",
    "count_sheeps(sheeps)"
   ]
  },
  {
   "cell_type": "markdown",
   "metadata": {},
   "source": [
    "#### 2. Take an array and remove every second element from the array. Always keep the first element and start removing with the next element."
   ]
  },
  {
   "cell_type": "markdown",
   "metadata": {},
   "source": [
    "##### Example: [\"Keep\", \"Remove\", \"Keep\", \"Remove\", \"Keep\", ...] --> [\"Keep\", \"Keep\", \"Keep\", ...]"
   ]
  },
  {
   "cell_type": "code",
   "execution_count": 18,
   "metadata": {},
   "outputs": [],
   "source": [
    "def Remove_function(array):\n",
    "    new_array = []\n",
    "    for i in range(len(array)):\n",
    "        if i%2 == 0:\n",
    "            new_array.append(array[i])\n",
    "    return new_array"
   ]
  },
  {
   "cell_type": "code",
   "execution_count": 19,
   "metadata": {},
   "outputs": [
    {
     "data": {
      "text/plain": [
       "[1, 2, 1, 1, 1, 1, 1, 1, 1, 1]"
      ]
     },
     "execution_count": 19,
     "metadata": {},
     "output_type": "execute_result"
    }
   ],
   "source": [
    "array_new = [1,0,2,3,1,0,1,0,1,0,1,0,1,0,1,0,1,0,1,0]\n",
    "Remove_function(array_new)"
   ]
  },
  {
   "cell_type": "markdown",
   "metadata": {},
   "source": [
    "#### 3. Convert number to reversed array of digits\n",
    "##### Given a random non-negative number, you have to return the digits of this number within an array in reverse order.\n",
    "\n",
    "##### Example:348597 => [7,9,5,8,4,3]\n",
    "\n",
    "##### 0 => [0]"
   ]
  },
  {
   "cell_type": "code",
   "execution_count": 20,
   "metadata": {},
   "outputs": [],
   "source": [
    "def num_array(num):\n",
    "    num_str = str(num)[::-1]\n",
    "    array = []\n",
    "    for i in num_str:\n",
    "        array.append(int(i))\n",
    "    return array"
   ]
  },
  {
   "cell_type": "code",
   "execution_count": 23,
   "metadata": {},
   "outputs": [
    {
     "data": {
      "text/plain": [
       "[0, 9, 8, 7, 6, 5, 4, 3, 2, 1]"
      ]
     },
     "execution_count": 23,
     "metadata": {},
     "output_type": "execute_result"
    }
   ],
   "source": [
    "num_new = 1234567890\n",
    "num_array(num_new)"
   ]
  },
  {
   "cell_type": "markdown",
   "metadata": {},
   "source": [
    "#### 4.[Square every digit] (https://www.codewars.com/kata/546e2562b03326a88e000020)"
   ]
  },
  {
   "cell_type": "markdown",
   "metadata": {},
   "source": [
    "Welcome. In this kata, you are asked to square every digit of a number and concatenate them.\n",
    "\n",
    "For example, if we run 9119 through the function, 811181 will come out, because 92 is 81 and 12 is 1.\n",
    "\n",
    "Note: The function accepts an integer and returns an integer"
   ]
  },
  {
   "cell_type": "code",
   "execution_count": 26,
   "metadata": {},
   "outputs": [
    {
     "data": {
      "text/plain": [
       "9162525"
      ]
     },
     "execution_count": 26,
     "metadata": {},
     "output_type": "execute_result"
    }
   ],
   "source": [
    "def square_dig(num):\n",
    "    num_str = str(num)\n",
    "    result = '' \n",
    "    for i in num_str:\n",
    "        digit = (int(i))**2\n",
    "        result += str(digit)\n",
    "    return int(result)\n",
    "square_dig(3455)"
   ]
  },
  {
   "cell_type": "markdown",
   "metadata": {},
   "source": [
    "#### 5. Counting Total Occurence Of Specific Digits\n",
    "\n",
    "We need a method in the List Class that may count specific digits from a given list of integers. This marked digits will be given in a second list. The method .count_spec_digits()/.countSpecDigits() will accept two arguments, a list of an uncertain amount of integers integers_lists/integersLists (and of an uncertain amount of digits, too) and a second list, digits_list/digitsList that has the specific digits to count which length cannot be be longer than 10 (It's obvious, we've got ten digits). The method will output a list of tuples, each tuple having two elements, the first one will be a digit to count, and second one, its corresponding total frequency in all the integers of the first list. This list of tuples should be ordered with the same order that the digits have in digitsList"
   ]
  },
  {
   "cell_type": "code",
   "execution_count": 29,
   "metadata": {},
   "outputs": [],
   "source": [
    "#l = List()\n",
    "\n",
    "#integers_list =  [1, 1, 2 ,3 ,1 ,2 ,3 ,4]\n",
    "\n",
    "#digits_list = [1, 3]\n",
    "\n",
    "#l.count_spec_digits(integers_list, digits_list) == [(1, 3), (3, 2)]\n",
    "\n",
    "#integers_list = [-18, -31, 81, -19, 111, -888]\n",
    "\n",
    "#digits_list = [1, 8, 4]\n",
    "\n",
    "#l.count_spec_digits(integers_list, digits_list) == [(1, 7), (8, 5), (4, 0)]\n",
    "\n",
    "#integers_list = [-77, -65, 56, -79, 6666, 222]\n",
    "\n",
    "#digits_list = [1, 8, 4]\n",
    "\n",
    "#l.count_spec_digits(integers_list, digits_list) == [(1, 0), (8, 0), (4, 0)]-----"
   ]
  },
  {
   "cell_type": "code",
   "execution_count": 35,
   "metadata": {},
   "outputs": [],
   "source": [
    "def int_digits(integers,digits):\n",
    "    digit_counts = []\n",
    "    results = []\n",
    "    \n",
    "    int_str =''.join([str(i) for i in integers])\n",
    "\n",
    "    for j in digits:\n",
    "        digit_counts.append(int_str.count(str(j)))\n",
    "    \n",
    "    for k in range(len(digits)):\n",
    "        results.append((digits[k],digit_counts[k]))\n",
    "    return results"
   ]
  },
  {
   "cell_type": "code",
   "execution_count": 36,
   "metadata": {},
   "outputs": [
    {
     "data": {
      "text/plain": [
       "[(1, 3), (3, 2)]"
      ]
     },
     "execution_count": 36,
     "metadata": {},
     "output_type": "execute_result"
    }
   ],
   "source": [
    "int_digits( [1, 1, 2 ,3 ,1 ,2 ,3 ,4] , [1, 3])"
   ]
  },
  {
   "cell_type": "code",
   "execution_count": 37,
   "metadata": {},
   "outputs": [
    {
     "data": {
      "text/plain": [
       "[(1, 7), (8, 5), (4, 0)]"
      ]
     },
     "execution_count": 37,
     "metadata": {},
     "output_type": "execute_result"
    }
   ],
   "source": [
    "ints = [-18, -31, 81, -19, 111, -888]\n",
    "digits = [1, 8, 4]\n",
    "\n",
    "int_digits(ints,digits)"
   ]
  },
  {
   "cell_type": "code",
   "execution_count": 38,
   "metadata": {},
   "outputs": [
    {
     "data": {
      "text/plain": [
       "[(1, 0), (8, 0), (4, 0)]"
      ]
     },
     "execution_count": 38,
     "metadata": {},
     "output_type": "execute_result"
    }
   ],
   "source": [
    "ints = [-77, -65, 56, -79, 6666, 222]\n",
    "digits = [1, 8, 4]\n",
    "\n",
    "int_digits(ints,digits)"
   ]
  },
  {
   "cell_type": "markdown",
   "metadata": {},
   "source": [
    "# Thank you"
   ]
  },
  {
   "cell_type": "code",
   "execution_count": null,
   "metadata": {},
   "outputs": [],
   "source": []
  }
 ],
 "metadata": {
  "kernelspec": {
   "display_name": "Python 3",
   "language": "python",
   "name": "python3"
  },
  "language_info": {
   "codemirror_mode": {
    "name": "ipython",
    "version": 3
   },
   "file_extension": ".py",
   "mimetype": "text/x-python",
   "name": "python",
   "nbconvert_exporter": "python",
   "pygments_lexer": "ipython3",
   "version": "3.7.4"
  }
 },
 "nbformat": 4,
 "nbformat_minor": 2
}
